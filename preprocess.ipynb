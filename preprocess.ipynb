{
 "cells": [
  {
   "cell_type": "code",
   "execution_count": 1,
   "metadata": {},
   "outputs": [],
   "source": [
    "import nltk\n",
    "from nltk.corpus import inaugural\n",
    "\n",
    "import pandas as pd"
   ]
  },
  {
   "cell_type": "markdown",
   "metadata": {},
   "source": [
    "### Load inaugural addresses"
   ]
  },
  {
   "cell_type": "code",
   "execution_count": 2,
   "metadata": {},
   "outputs": [],
   "source": [
    "fileids = inaugural.fileids()"
   ]
  },
  {
   "cell_type": "code",
   "execution_count": null,
   "metadata": {},
   "outputs": [],
   "source": [
    "files = []\n",
    "for fid in fileids:\n",
    "    s = \"\"\n",
    "    for i in inaugural.open(fid):\n",
    "        s += i\n",
    "    files.append(s)\n",
    "\n",
    "fs = []\n",
    "for ix, file in enumerate(files):\n",
    "    fs += [(ix, i.strip(\" \\n\")) for i in re.split('[.!?]', file)]"
   ]
  },
  {
   "cell_type": "code",
   "execution_count": null,
   "metadata": {
    "scrolled": true
   },
   "outputs": [],
   "source": [
    "len(fs)"
   ]
  },
  {
   "cell_type": "markdown",
   "metadata": {},
   "source": [
    "### Translate"
   ]
  },
  {
   "cell_type": "code",
   "execution_count": null,
   "metadata": {},
   "outputs": [],
   "source": [
    "import re"
   ]
  },
  {
   "cell_type": "code",
   "execution_count": null,
   "metadata": {},
   "outputs": [],
   "source": [
    "import urllib.request\n",
    "from urllib.parse import quote\n",
    "import sys\n",
    "\n",
    "typ = sys.getfilesystemencoding()\n",
    "\n",
    "def translate(querystr, to_l=\"zh\", from_l=\"en\"):\n",
    "    '''for google tranlate by doom\n",
    "    '''\n",
    "    C_agent = {'User-Agent': \"Mozilla/5.0 (X11; Linux x86_64) AppleWebKit/537.36 (KHTML, like Gecko) Chrome/31.0.165063 Safari/537.36 AppEngine-Google.\"}\n",
    "    flag = 'class=\"t0\">'\n",
    "    tarurl = (\"http://translate.google.cn/m?hl=%s&sl=%s&q=%s\" % (to_l, from_l, quote(querystr, safe='')))\n",
    "    request = urllib.request.Request(tarurl, headers=C_agent)\n",
    "    page = str(urllib.request.urlopen(request).read().decode(typ))\n",
    "    target = page[page.find(flag) + len(flag):]\n",
    "    target = target.split(\"<\")[0]\n",
    "    return target"
   ]
  },
  {
   "cell_type": "code",
   "execution_count": null,
   "metadata": {},
   "outputs": [],
   "source": [
    "for i,eng in fs[1473:]:\n",
    "    newversion.append((i, eng, translate(eng)))"
   ]
  },
  {
   "cell_type": "code",
   "execution_count": null,
   "metadata": {},
   "outputs": [],
   "source": [
    "temp = pd.DataFrame(newversion)"
   ]
  },
  {
   "cell_type": "code",
   "execution_count": null,
   "metadata": {},
   "outputs": [],
   "source": [
    "temp.to_csv(\"newdata.csv\")"
   ]
  },
  {
   "cell_type": "markdown",
   "metadata": {
    "collapsed": true
   },
   "source": [
    "### Load ground truth unprocessed"
   ]
  },
  {
   "cell_type": "code",
   "execution_count": 3,
   "metadata": {},
   "outputs": [],
   "source": [
    "raw_data = pd.read_csv(\"inaug_addr_cleaned.csv\", encoding=\"latin\").dropna()"
   ]
  },
  {
   "cell_type": "code",
   "execution_count": 4,
   "metadata": {},
   "outputs": [
    {
     "data": {
      "text/html": [
       "<div>\n",
       "<style>\n",
       "    .dataframe thead tr:only-child th {\n",
       "        text-align: right;\n",
       "    }\n",
       "\n",
       "    .dataframe thead th {\n",
       "        text-align: left;\n",
       "    }\n",
       "\n",
       "    .dataframe tbody tr th {\n",
       "        vertical-align: top;\n",
       "    }\n",
       "</style>\n",
       "<table border=\"1\" class=\"dataframe\">\n",
       "  <thead>\n",
       "    <tr style=\"text-align: right;\">\n",
       "      <th></th>\n",
       "      <th>doc index</th>\n",
       "      <th>text</th>\n",
       "      <th>P1</th>\n",
       "      <th>P2</th>\n",
       "      <th>Final</th>\n",
       "      <th>IsSame</th>\n",
       "    </tr>\n",
       "  </thead>\n",
       "  <tbody>\n",
       "    <tr>\n",
       "      <th>0</th>\n",
       "      <td>0</td>\n",
       "      <td>Fellow-Citizens of the Senate and of the House...</td>\n",
       "      <td>0.0</td>\n",
       "      <td>0.0</td>\n",
       "      <td>0.0</td>\n",
       "      <td>True</td>\n",
       "    </tr>\n",
       "    <tr>\n",
       "      <th>1</th>\n",
       "      <td>0</td>\n",
       "      <td>On the one hand, I was summoned by my Country,...</td>\n",
       "      <td>0.0</td>\n",
       "      <td>0.0</td>\n",
       "      <td>0.0</td>\n",
       "      <td>True</td>\n",
       "    </tr>\n",
       "    <tr>\n",
       "      <th>2</th>\n",
       "      <td>0</td>\n",
       "      <td>On the other hand, the magnitude and difficult...</td>\n",
       "      <td>0.0</td>\n",
       "      <td>0.0</td>\n",
       "      <td>0.0</td>\n",
       "      <td>True</td>\n",
       "    </tr>\n",
       "    <tr>\n",
       "      <th>3</th>\n",
       "      <td>0</td>\n",
       "      <td>In this conflict of emotions all I dare aver i...</td>\n",
       "      <td>0.0</td>\n",
       "      <td>0.0</td>\n",
       "      <td>0.0</td>\n",
       "      <td>True</td>\n",
       "    </tr>\n",
       "    <tr>\n",
       "      <th>4</th>\n",
       "      <td>0</td>\n",
       "      <td>All I dare hope is that if, in executing this ...</td>\n",
       "      <td>0.0</td>\n",
       "      <td>0.0</td>\n",
       "      <td>0.0</td>\n",
       "      <td>True</td>\n",
       "    </tr>\n",
       "  </tbody>\n",
       "</table>\n",
       "</div>"
      ],
      "text/plain": [
       "   doc index                                               text   P1   P2  \\\n",
       "0          0  Fellow-Citizens of the Senate and of the House...  0.0  0.0   \n",
       "1          0  On the one hand, I was summoned by my Country,...  0.0  0.0   \n",
       "2          0  On the other hand, the magnitude and difficult...  0.0  0.0   \n",
       "3          0  In this conflict of emotions all I dare aver i...  0.0  0.0   \n",
       "4          0  All I dare hope is that if, in executing this ...  0.0  0.0   \n",
       "\n",
       "   Final IsSame  \n",
       "0    0.0   True  \n",
       "1    0.0   True  \n",
       "2    0.0   True  \n",
       "3    0.0   True  \n",
       "4    0.0   True  "
      ]
     },
     "execution_count": 4,
     "metadata": {},
     "output_type": "execute_result"
    }
   ],
   "source": [
    "raw_data.head()"
   ]
  },
  {
   "cell_type": "code",
   "execution_count": 219,
   "metadata": {},
   "outputs": [
    {
     "data": {
      "text/plain": [
       "4847"
      ]
     },
     "execution_count": 219,
     "metadata": {},
     "output_type": "execute_result"
    }
   ],
   "source": [
    "len(raw_data)"
   ]
  },
  {
   "cell_type": "markdown",
   "metadata": {},
   "source": [
    "## 1. Baseline"
   ]
  },
  {
   "cell_type": "markdown",
   "metadata": {},
   "source": [
    "### 1.1 Bag of Words "
   ]
  },
  {
   "cell_type": "code",
   "execution_count": 5,
   "metadata": {},
   "outputs": [],
   "source": [
    "from sklearn.feature_extraction.text import CountVectorizer"
   ]
  },
  {
   "cell_type": "code",
   "execution_count": 6,
   "metadata": {},
   "outputs": [],
   "source": [
    "vectorizer = CountVectorizer()\n",
    "\n",
    "text = vectorizer.fit_transform(raw_data[\"text\"]).toarray()"
   ]
  },
  {
   "cell_type": "code",
   "execution_count": 7,
   "metadata": {},
   "outputs": [
    {
     "data": {
      "text/plain": [
       "(4847, 9017)"
      ]
     },
     "execution_count": 7,
     "metadata": {},
     "output_type": "execute_result"
    }
   ],
   "source": [
    "# we have 4847 samples, each is 9017 long\n",
    "text.shape"
   ]
  },
  {
   "cell_type": "markdown",
   "metadata": {},
   "source": [
    "### 1.2 Train Test Split"
   ]
  },
  {
   "cell_type": "code",
   "execution_count": 8,
   "metadata": {},
   "outputs": [],
   "source": [
    "import numpy as np\n",
    "from sklearn.model_selection import train_test_split\n",
    "from utilities import train_test_split_common"
   ]
  },
  {
   "cell_type": "code",
   "execution_count": 10,
   "metadata": {},
   "outputs": [],
   "source": [
    "ytrue = np.array(raw_data[\"Final\"], dtype=int)"
   ]
  },
  {
   "cell_type": "code",
   "execution_count": 66,
   "metadata": {},
   "outputs": [],
   "source": [
    "train_x, test_x, train_y, test_y = train_test_split_common(text, ytrue)"
   ]
  },
  {
   "cell_type": "markdown",
   "metadata": {},
   "source": [
    "### 1.3 Logistic Regression"
   ]
  },
  {
   "cell_type": "code",
   "execution_count": 15,
   "metadata": {},
   "outputs": [],
   "source": [
    "from sklearn.linear_model import LogisticRegressionCV\n",
    "from sklearn.linear_model import LogisticRegression"
   ]
  },
  {
   "cell_type": "code",
   "execution_count": null,
   "metadata": {},
   "outputs": [],
   "source": [
    "logi = LogisticRegressionCV(cv=5, random_state=0).fit(train_x, train_y)"
   ]
  },
  {
   "cell_type": "code",
   "execution_count": null,
   "metadata": {},
   "outputs": [],
   "source": [
    "# accuracy\n",
    "logi.score(train_x, train_y)"
   ]
  },
  {
   "cell_type": "code",
   "execution_count": 17,
   "metadata": {},
   "outputs": [],
   "source": [
    "from sklearn.model_selection import KFold\n",
    "from sklearn.metrics import precision_score, recall_score, f1_score"
   ]
  },
  {
   "cell_type": "code",
   "execution_count": 18,
   "metadata": {
    "scrolled": true
   },
   "outputs": [
    {
     "name": "stdout",
     "output_type": "stream",
     "text": [
      "Precision: 0.69\n",
      "Recall:    0.31\n",
      "F1_score:  0.42\n",
      "----------\n",
      "Precision: 0.60\n",
      "Recall:    0.29\n",
      "F1_score:  0.39\n",
      "----------\n",
      "Precision: 0.36\n",
      "Recall:    0.12\n",
      "F1_score:  0.18\n",
      "----------\n",
      "Precision: 0.67\n",
      "Recall:    0.27\n",
      "F1_score:  0.38\n",
      "----------\n",
      "Precision: 0.54\n",
      "Recall:    0.24\n",
      "F1_score:  0.33\n",
      "----------\n"
     ]
    }
   ],
   "source": [
    "# Baseline\n",
    "kf = KFold(n_splits=5)\n",
    "precisions = []\n",
    "recalls = []\n",
    "f1s = []\n",
    "for train_index, test_index in kf.split(train_x):\n",
    "    X_train, X_test = train_x[train_index], train_x[test_index]\n",
    "    y_train, y_test = train_y[train_index], train_y[test_index]\n",
    "    logi = LogisticRegression(random_state=0).fit(X_train, y_train)\n",
    "    precision = precision_score(y_test, logi.predict(X_test))\n",
    "    recall = recall_score(y_test, logi.predict(X_test))\n",
    "    f1 = f1_score(y_test, logi.predict(X_test))\n",
    "    precisions.append(precision)\n",
    "    recalls.append(recall)\n",
    "    f1s.append(f1)\n",
    "    print(\"Precision: {:.2f}\\nRecall:    {:.2f}\\nF1_score:  {:.2f}\".format(precision, recall, f1))\n",
    "    print(\"----------\")"
   ]
  },
  {
   "cell_type": "code",
   "execution_count": 19,
   "metadata": {},
   "outputs": [
    {
     "name": "stdout",
     "output_type": "stream",
     "text": [
      "Avg precision: 0.57\n",
      "Avg recall:    0.24\n",
      "Avg fscore:    0.34\n"
     ]
    }
   ],
   "source": [
    "print(\"Avg precision: {:.2f}\".format(np.mean(precisions)))\n",
    "print(\"Avg recall:    {:.2f}\".format(np.mean(recalls)))\n",
    "print(\"Avg fscore:    {:.2f}\".format(np.mean(f1s)))"
   ]
  },
  {
   "cell_type": "markdown",
   "metadata": {},
   "source": [
    "### 1.4 Naive Bayes"
   ]
  },
  {
   "cell_type": "code",
   "execution_count": 20,
   "metadata": {},
   "outputs": [],
   "source": [
    "from sklearn.naive_bayes import GaussianNB"
   ]
  },
  {
   "cell_type": "code",
   "execution_count": 21,
   "metadata": {},
   "outputs": [
    {
     "name": "stdout",
     "output_type": "stream",
     "text": [
      "Precision: 0.00\n",
      "Recall:    0.00\n",
      "F1_score:  0.00\n",
      "----------\n",
      "Precision: 0.09\n",
      "Recall:    0.07\n",
      "F1_score:  0.08\n",
      "----------\n",
      "Precision: 0.11\n",
      "Recall:    0.09\n",
      "F1_score:  0.10\n",
      "----------\n",
      "Precision: 0.07\n",
      "Recall:    0.07\n",
      "F1_score:  0.07\n",
      "----------\n",
      "Precision: 0.13\n",
      "Recall:    0.10\n",
      "F1_score:  0.12\n",
      "----------\n"
     ]
    }
   ],
   "source": [
    "kf = KFold(n_splits=5)\n",
    "precisions = []\n",
    "recalls = []\n",
    "f1s = []\n",
    "for train_index, test_index in kf.split(train_x):\n",
    "    X_train, X_test = train_x[train_index], train_x[test_index]\n",
    "    y_train, y_test = train_y[train_index], train_y[test_index]\n",
    "    clf = GaussianNB()\n",
    "    clf = clf.fit(X_train, y_train)\n",
    "    precision = precision_score(y_test, clf.predict(X_test))\n",
    "    recall = recall_score(y_test, clf.predict(X_test))\n",
    "    f1 = f1_score(y_test, clf.predict(X_test))\n",
    "    precisions.append(precision)\n",
    "    recalls.append(recall)\n",
    "    f1s.append(f1)\n",
    "    print(\"Precision: {:.2f}\\nRecall:    {:.2f}\\nF1_score:  {:.2f}\".format(precision, recall, f1))\n",
    "    print(\"----------\")"
   ]
  },
  {
   "cell_type": "code",
   "execution_count": 22,
   "metadata": {},
   "outputs": [
    {
     "name": "stdout",
     "output_type": "stream",
     "text": [
      "Avg precision: 0.08\n",
      "Avg recall:    0.07\n",
      "Avg fscore:    0.07\n"
     ]
    }
   ],
   "source": [
    "print(\"Avg precision: {:.2f}\".format(np.mean(precisions)))\n",
    "print(\"Avg recall:    {:.2f}\".format(np.mean(recalls)))\n",
    "print(\"Avg fscore:    {:.2f}\".format(np.mean(f1s)))"
   ]
  },
  {
   "cell_type": "markdown",
   "metadata": {},
   "source": [
    "### 1.5 Support Vector Machine"
   ]
  },
  {
   "cell_type": "code",
   "execution_count": 23,
   "metadata": {},
   "outputs": [],
   "source": [
    "from sklearn.svm import SVC"
   ]
  },
  {
   "cell_type": "code",
   "execution_count": null,
   "metadata": {},
   "outputs": [],
   "source": [
    "kf = KFold(n_splits=5)\n",
    "precisions = []\n",
    "recalls = []\n",
    "f1s = []\n",
    "for train_index, test_index in kf.split(train_x):\n",
    "    X_train, X_test = train_x[train_index], train_x[test_index]\n",
    "    y_train, y_test = train_y[train_index], train_y[test_index]\n",
    "    clf = SVC()\n",
    "    clf = clf.fit(X_train, y_train)\n",
    "    precision = precision_score(y_test, clf.predict(X_test))\n",
    "    recall = recall_score(y_test, clf.predict(X_test))\n",
    "    f1 = f1_score(y_test, clf.predict(X_test))\n",
    "    precisions.append(precision)\n",
    "    recalls.append(recall)\n",
    "    f1s.append(f1)\n",
    "    print(\"Precision: {:.2f}\\nRecall:    {:.2f}\\nF1_score:  {:.2f}\".format(precision, recall, f1))\n",
    "    print(\"----------\")"
   ]
  },
  {
   "cell_type": "code",
   "execution_count": null,
   "metadata": {},
   "outputs": [],
   "source": [
    "print(\"Avg precision: {:.2f}\".format(np.mean(precisions)))\n",
    "print(\"Avg recall:    {:.2f}\".format(np.mean(recalls)))\n",
    "print(\"Avg fscore:    {:.2f}\".format(np.mean(f1s)))"
   ]
  },
  {
   "cell_type": "markdown",
   "metadata": {},
   "source": [
    "### 1.6 Neural Network"
   ]
  },
  {
   "cell_type": "code",
   "execution_count": 25,
   "metadata": {},
   "outputs": [],
   "source": [
    "from sklearn.neural_network import MLPClassifier"
   ]
  },
  {
   "cell_type": "code",
   "execution_count": 26,
   "metadata": {},
   "outputs": [
    {
     "name": "stdout",
     "output_type": "stream",
     "text": [
      "Precision: 0.71\n",
      "Recall:    0.14\n",
      "F1_score:  0.23\n",
      "----------\n",
      "Precision: 0.71\n",
      "Recall:    0.24\n",
      "F1_score:  0.36\n",
      "----------\n",
      "Precision: 0.30\n",
      "Recall:    0.09\n",
      "F1_score:  0.14\n",
      "----------\n",
      "Precision: 0.75\n",
      "Recall:    0.20\n",
      "F1_score:  0.32\n",
      "----------\n",
      "Precision: 0.50\n",
      "Recall:    0.24\n",
      "F1_score:  0.33\n",
      "----------\n"
     ]
    }
   ],
   "source": [
    "kf = KFold(n_splits=5)\n",
    "precisions = []\n",
    "recalls = []\n",
    "f1s = []\n",
    "for train_index, test_index in kf.split(train_x):\n",
    "    X_train, X_test = train_x[train_index], train_x[test_index]\n",
    "    y_train, y_test = train_y[train_index], train_y[test_index]\n",
    "    clf = MLPClassifier()\n",
    "    clf = clf.fit(X_train, y_train)\n",
    "    precision = precision_score(y_test, clf.predict(X_test))\n",
    "    recall = recall_score(y_test, clf.predict(X_test))\n",
    "    f1 = f1_score(y_test, clf.predict(X_test))\n",
    "    precisions.append(precision)\n",
    "    recalls.append(recall)\n",
    "    f1s.append(f1)\n",
    "    print(\"Precision: {:.2f}\\nRecall:    {:.2f}\\nF1_score:  {:.2f}\".format(precision, recall, f1))\n",
    "    print(\"----------\")"
   ]
  },
  {
   "cell_type": "code",
   "execution_count": 27,
   "metadata": {},
   "outputs": [
    {
     "name": "stdout",
     "output_type": "stream",
     "text": [
      "Avg precision: 0.60\n",
      "Avg recall:    0.18\n",
      "Avg fscore:    0.27\n"
     ]
    }
   ],
   "source": [
    "print(\"Avg precision: {:.2f}\".format(np.mean(precisions)))\n",
    "print(\"Avg recall:    {:.2f}\".format(np.mean(recalls)))\n",
    "print(\"Avg fscore:    {:.2f}\".format(np.mean(f1s)))"
   ]
  },
  {
   "cell_type": "markdown",
   "metadata": {},
   "source": [
    "## 2. Feature Engineering"
   ]
  },
  {
   "cell_type": "markdown",
   "metadata": {},
   "source": [
    "### 2.1 Word Embeddings"
   ]
  },
  {
   "cell_type": "code",
   "execution_count": 150,
   "metadata": {},
   "outputs": [],
   "source": [
    "from nltk.corpus import stopwords\n",
    "from nltk.stem import PorterStemmer\n",
    "from nltk.tokenize import WordPunctTokenizer\n",
    "from nltk.collocations import BigramCollocationFinder\n",
    "from nltk.metrics import BigramAssocMeasures\n",
    "from nltk.metrics import TrigramAssocMeasures\n",
    "from nltk.collocations import TrigramCollocationFinder"
   ]
  },
  {
   "cell_type": "code",
   "execution_count": 102,
   "metadata": {},
   "outputs": [],
   "source": [
    "import string"
   ]
  },
  {
   "cell_type": "code",
   "execution_count": 133,
   "metadata": {},
   "outputs": [],
   "source": [
    "def get_bigrams(myString):\n",
    "    tokenizer = WordPunctTokenizer()\n",
    "    tokens = tokenizer.tokenize(myString)\n",
    "    stemmer = PorterStemmer()\n",
    "    bigram_finder = BigramCollocationFinder.from_words(tokens)\n",
    "    bigrams = bigram_finder.nbest(BigramAssocMeasures.chi_sq, 500)\n",
    "    \n",
    "    for bigram_tuple in bigrams:\n",
    "        x = \"%s %s\" % bigram_tuple\n",
    "        tokens.append(x)\n",
    "\n",
    "    result = [' '.join([stemmer.stem(w).lower() for w in x.split()]) for x in tokens \n",
    "              if x.lower() not in stopwords.words('english') and x.lower() not in string.punctuation]\n",
    "    return result"
   ]
  },
  {
   "cell_type": "code",
   "execution_count": 163,
   "metadata": {},
   "outputs": [],
   "source": [
    "def get_trigrams(myString):\n",
    "    tokenizer = WordPunctTokenizer()\n",
    "    tokens = tokenizer.tokenize(myString)\n",
    "    stemmer = PorterStemmer()\n",
    "    trigram_finder = TrigramCollocationFinder.from_words(tokens)\n",
    "    trigrams = trigram_finder.nbest(TrigramAssocMeasures.raw_freq, 500)\n",
    "    tris = []\n",
    "    for trigram_tuple in trigrams:\n",
    "        x = \"%s %s %s\" % trigram_tuple\n",
    "        tris.append(x)\n",
    "    \n",
    "    result = [' '.join([stemmer.stem(w).lower() for w in x.split()]) for x in tris]\n",
    "    \n",
    "    return result"
   ]
  },
  {
   "cell_type": "code",
   "execution_count": 136,
   "metadata": {},
   "outputs": [],
   "source": [
    "# get bigram\n",
    "X = []\n",
    "for sentence in raw_data[\"text\"]:\n",
    "    X.append(get_bigrams(sentence))"
   ]
  },
  {
   "cell_type": "code",
   "execution_count": 174,
   "metadata": {},
   "outputs": [],
   "source": [
    "# add trigram\n",
    "for sentence, x in zip(raw_data[\"text\"], X):\n",
    "    x += get_trigrams(sentence)"
   ]
  },
  {
   "cell_type": "code",
   "execution_count": 183,
   "metadata": {},
   "outputs": [],
   "source": [
    "from gensim.models import Word2Vec"
   ]
  },
  {
   "cell_type": "code",
   "execution_count": 240,
   "metadata": {},
   "outputs": [],
   "source": [
    "# word embedding\n",
    "model = Word2Vec(X, min_count=1, size = 50)"
   ]
  },
  {
   "cell_type": "code",
   "execution_count": 241,
   "metadata": {
    "scrolled": true
   },
   "outputs": [
    {
     "data": {
      "text/plain": [
       "4847"
      ]
     },
     "execution_count": 241,
     "metadata": {},
     "output_type": "execute_result"
    }
   ],
   "source": [
    "len(X)"
   ]
  },
  {
   "cell_type": "code",
   "execution_count": 242,
   "metadata": {},
   "outputs": [
    {
     "name": "stdout",
     "output_type": "stream",
     "text": [
      "a\n",
      "a\n"
     ]
    }
   ],
   "source": [
    "res = []\n",
    "maxLen = 0\n",
    "for x in X:\n",
    "    try:\n",
    "        res.append(np.concatenate([model.wv[w] for w in x]))\n",
    "        maxLen = max(maxLen, len(res[-1]))\n",
    "    except:\n",
    "        res.append(np.zeros(1))\n",
    "        print(\"a\")"
   ]
  },
  {
   "cell_type": "code",
   "execution_count": 243,
   "metadata": {},
   "outputs": [
    {
     "data": {
      "text/plain": [
       "67100"
      ]
     },
     "execution_count": 243,
     "metadata": {},
     "output_type": "execute_result"
    }
   ],
   "source": [
    "maxLen"
   ]
  },
  {
   "cell_type": "code",
   "execution_count": 244,
   "metadata": {},
   "outputs": [],
   "source": [
    "# padd to 150000\n",
    "res_padded = []\n",
    "for sentence in res:\n",
    "    res_padded.append(np.concatenate((sentence, np.zeros(maxLen - sentence.shape[0]))))"
   ]
  },
  {
   "cell_type": "code",
   "execution_count": 245,
   "metadata": {},
   "outputs": [
    {
     "data": {
      "text/plain": [
       "4847"
      ]
     },
     "execution_count": 245,
     "metadata": {},
     "output_type": "execute_result"
    }
   ],
   "source": [
    "sum([len(i) == maxLen for i in res_padded])"
   ]
  },
  {
   "cell_type": "code",
   "execution_count": 235,
   "metadata": {},
   "outputs": [],
   "source": [
    "from sklearn.decomposition import PCA"
   ]
  },
  {
   "cell_type": "code",
   "execution_count": 254,
   "metadata": {},
   "outputs": [],
   "source": [
    "pca = PCA(n_components=500)"
   ]
  },
  {
   "cell_type": "code",
   "execution_count": 252,
   "metadata": {},
   "outputs": [],
   "source": [
    "data = np.array(res_padded)"
   ]
  },
  {
   "cell_type": "code",
   "execution_count": 253,
   "metadata": {},
   "outputs": [
    {
     "data": {
      "text/plain": [
       "(4847, 67100)"
      ]
     },
     "execution_count": 253,
     "metadata": {},
     "output_type": "execute_result"
    }
   ],
   "source": [
    "data.shape"
   ]
  },
  {
   "cell_type": "code",
   "execution_count": 256,
   "metadata": {},
   "outputs": [],
   "source": [
    "final_data = pca.fit_transform(data)"
   ]
  },
  {
   "cell_type": "code",
   "execution_count": 260,
   "metadata": {},
   "outputs": [],
   "source": [
    "train_x, test_x, train_y, test_y = train_test_split_common(data, ytrue)"
   ]
  },
  {
   "cell_type": "code",
   "execution_count": 261,
   "metadata": {},
   "outputs": [],
   "source": [
    "logi = LogisticRegression(random_state=0).fit(train_x, train_y)\n",
    "precision = precision_score(test_y, logi.predict(test_x))"
   ]
  },
  {
   "cell_type": "code",
   "execution_count": 263,
   "metadata": {},
   "outputs": [],
   "source": [
    "recall = recall_score(test_y, logi.predict(test_x))"
   ]
  },
  {
   "cell_type": "code",
   "execution_count": 259,
   "metadata": {},
   "outputs": [
    {
     "name": "stdout",
     "output_type": "stream",
     "text": [
      "Precision: 0.33\n",
      "Recall:    0.03\n",
      "F1_score:  0.05\n",
      "----------\n",
      "Precision: 0.00\n",
      "Recall:    0.00\n",
      "F1_score:  0.00\n",
      "----------\n",
      "Precision: 0.00\n",
      "Recall:    0.00\n",
      "F1_score:  0.00\n",
      "----------\n",
      "Precision: 0.50\n",
      "Recall:    0.03\n",
      "F1_score:  0.06\n",
      "----------\n",
      "Precision: 0.00\n",
      "Recall:    0.00\n",
      "F1_score:  0.00\n",
      "----------\n"
     ]
    }
   ],
   "source": [
    "# Baseline\n",
    "kf = KFold(n_splits=5)\n",
    "precisions = []\n",
    "recalls = []\n",
    "f1s = []\n",
    "for train_index, test_index in kf.split(train_x):\n",
    "    X_train, X_test = train_x[train_index], train_x[test_index]\n",
    "    y_train, y_test = train_y[train_index], train_y[test_index]\n",
    "    logi = LogisticRegression(random_state=0).fit(X_train, y_train)\n",
    "    precision = precision_score(y_test, logi.predict(X_test))\n",
    "    recall = recall_score(y_test, logi.predict(X_test))\n",
    "    f1 = f1_score(y_test, logi.predict(X_test))\n",
    "    precisions.append(precision)\n",
    "    recalls.append(recall)\n",
    "    f1s.append(f1)\n",
    "    print(\"Precision: {:.2f}\\nRecall:    {:.2f}\\nF1_score:  {:.2f}\".format(precision, recall, f1))\n",
    "    print(\"----------\")"
   ]
  },
  {
   "cell_type": "code",
   "execution_count": null,
   "metadata": {},
   "outputs": [],
   "source": []
  }
 ],
 "metadata": {
  "kernelspec": {
   "display_name": "Python 3",
   "language": "python",
   "name": "python3"
  },
  "language_info": {
   "codemirror_mode": {
    "name": "ipython",
    "version": 3
   },
   "file_extension": ".py",
   "mimetype": "text/x-python",
   "name": "python",
   "nbconvert_exporter": "python",
   "pygments_lexer": "ipython3",
   "version": "3.6.3"
  }
 },
 "nbformat": 4,
 "nbformat_minor": 2
}
